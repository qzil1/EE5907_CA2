{
 "cells": [
  {
   "cell_type": "code",
   "execution_count": 1,
   "metadata": {},
   "outputs": [],
   "source": [
    "import os\n",
    "from PIL import Image\n",
    "import numpy as np\n",
    "import matplotlib.pyplot as plt\n",
    "from libsvm.svmutil import svm_train, svm_predict"
   ]
  },
  {
   "cell_type": "code",
   "execution_count": 2,
   "metadata": {},
   "outputs": [],
   "source": [
    "def image_to_vector(image_path):\n",
    "    image = Image.open(image_path)\n",
    "    image_data = np.asarray(image)\n",
    "    return image_data.flatten()"
   ]
  },
  {
   "cell_type": "code",
   "execution_count": 3,
   "metadata": {},
   "outputs": [],
   "source": [
    "np.random.seed(6)\n",
    "\n",
    "fig_size = (32, 32)\n",
    "vector_dimension = fig_size[0] * fig_size[1]\n",
    "\n",
    "choice = [i * 7 % 68 for i in range(1, 25 + 1)]\n",
    "choice = [0] + choice # Append the selfish part\n",
    "pic_root_folder = \"PIE\"\n",
    "selfish_folder = \"0\"\n",
    "train_set_name, test_set_name = [], []\n",
    "for i in choice:\n",
    "    images = [f'{i}/{filename}' for filename in os.listdir(f'{pic_root_folder}/{i}')]\n",
    "    np.random.shuffle(images)\n",
    "    train_size = int(len(images) * 0.7)\n",
    "    train_set_name += images[:train_size]\n",
    "    test_set_name += images[train_size:]\n",
    "\n",
    "# Generate the label for each set\n",
    "train_set_label = np.array([int(i.split('/')[0]) for i in train_set_name])\n",
    "test_set_label = np.array([int(i.split('/')[0]) for i in test_set_name])\n",
    "\n",
    "# Read and transform image data\n",
    "train_set_data = np.zeros((len(train_set_name), vector_dimension))\n",
    "test_set_data = np.zeros((len(test_set_name), vector_dimension))\n",
    "for i in range(len(train_set_name)):\n",
    "    train_set_data[i, :] = image_to_vector(f'{pic_root_folder}/{train_set_name[i]}')\n",
    "for i in range(len(test_set_name)):\n",
    "    test_set_data[i, :] = image_to_vector(f'{pic_root_folder}/{test_set_name[i]}')"
   ]
  },
  {
   "cell_type": "code",
   "execution_count": 4,
   "metadata": {},
   "outputs": [],
   "source": [
    "class PCA:\n",
    "    def __init__(self, X):\n",
    "        self.mean = np.mean(X, axis=0)\n",
    "        X_d_n = X - self.mean\n",
    "        U, S, V_t = np.linalg.svd(X_d_n)\n",
    "        index = np.argsort(S)[::-1]\n",
    "        self.V = V_t.T[:, index]\n",
    "\n",
    "    def transform(self, X, dimension):\n",
    "        X_d_n = X - self.mean\n",
    "        return X_d_n @ self.V[:,:dimension]"
   ]
  },
  {
   "cell_type": "code",
   "execution_count": 5,
   "metadata": {},
   "outputs": [],
   "source": [
    "pca = PCA(train_set_data)"
   ]
  },
  {
   "cell_type": "code",
   "execution_count": 6,
   "metadata": {},
   "outputs": [
    {
     "name": "stdout",
     "output_type": "stream",
     "text": [
      "Dimension: 80, C: 0.01\n",
      "Accuracy = 98.1581% (1279/1303) (classification)\n",
      "------------------------------------------------------------\n",
      "Dimension: 80, C: 0.1\n",
      "Accuracy = 98.1581% (1279/1303) (classification)\n",
      "------------------------------------------------------------\n",
      "Dimension: 80, C: 1\n",
      "Accuracy = 98.1581% (1279/1303) (classification)\n",
      "------------------------------------------------------------\n",
      "Dimension: 200, C: 0.01\n",
      "Accuracy = 98.6186% (1285/1303) (classification)\n",
      "------------------------------------------------------------\n",
      "Dimension: 200, C: 0.1\n",
      "Accuracy = 98.6186% (1285/1303) (classification)\n",
      "------------------------------------------------------------\n",
      "Dimension: 200, C: 1\n",
      "Accuracy = 98.6186% (1285/1303) (classification)\n",
      "------------------------------------------------------------\n"
     ]
    }
   ],
   "source": [
    "table_rows = []\n",
    "for d in [80, 200]:\n",
    "    X_train = pca.transform(train_set_data, d)\n",
    "    X_test = pca.transform(test_set_data, d)\n",
    "    for c in [1e-2, 1e-1, 1]:\n",
    "        print(f'Dimension: {d}, C: {c}')\n",
    "        model = svm_train(train_set_label, X_train, f'-t 0 -c {c}')\n",
    "        _, p_acc, _ = svm_predict(test_set_label, X_test, model)\n",
    "        table_rows.append([d, c, p_acc[0]])\n",
    "        print('-'*60)\n"
   ]
  },
  {
   "cell_type": "code",
   "execution_count": 7,
   "metadata": {},
   "outputs": [
    {
     "name": "stdout",
     "output_type": "stream",
     "text": [
      "+-----------+------+-------------------+\n",
      "| Dimension |  C   |      Accuracy     |\n",
      "+-----------+------+-------------------+\n",
      "|     80    | 0.01 | 98.15809669992326 |\n",
      "|     80    | 0.1  | 98.15809669992326 |\n",
      "|     80    |  1   | 98.15809669992326 |\n",
      "|    200    | 0.01 | 98.61857252494244 |\n",
      "|    200    | 0.1  | 98.61857252494244 |\n",
      "|    200    |  1   | 98.61857252494244 |\n",
      "+-----------+------+-------------------+\n"
     ]
    }
   ],
   "source": [
    "from prettytable import PrettyTable\n",
    "table = PrettyTable()\n",
    "table.field_names = ['Dimension', 'C', 'Accuracy']\n",
    "table.add_rows(table_rows)\n",
    "print(table)"
   ]
  }
 ],
 "metadata": {
  "kernelspec": {
   "display_name": "base",
   "language": "python",
   "name": "python3"
  },
  "language_info": {
   "codemirror_mode": {
    "name": "ipython",
    "version": 3
   },
   "file_extension": ".py",
   "mimetype": "text/x-python",
   "name": "python",
   "nbconvert_exporter": "python",
   "pygments_lexer": "ipython3",
   "version": "3.10.9"
  }
 },
 "nbformat": 4,
 "nbformat_minor": 2
}
