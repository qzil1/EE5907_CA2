{
 "cells": [
  {
   "cell_type": "code",
   "execution_count": 9,
   "metadata": {},
   "outputs": [],
   "source": [
    "import os\n",
    "import numpy as np\n",
    "import matplotlib.pyplot as plt\n",
    "import torch\n",
    "import torch.nn as nn\n",
    "import torch.optim as optim\n",
    "import torch.nn.functional as functional\n",
    "\n",
    "from PIL import Image\n",
    "from torch.utils.data import Dataset, DataLoader, TensorDataset"
   ]
  },
  {
   "cell_type": "code",
   "execution_count": 10,
   "metadata": {},
   "outputs": [],
   "source": [
    "def read_image(image_path):\n",
    "    image = Image.open(image_path)\n",
    "    image_data = np.asarray(image)\n",
    "    return image_data"
   ]
  },
  {
   "cell_type": "code",
   "execution_count": 11,
   "metadata": {},
   "outputs": [],
   "source": [
    "np.random.seed(6)\n",
    "\n",
    "fig_size = (32, 32)\n",
    "\n",
    "choice = [i * 7 % 68 for i in range(1, 25 + 1)]\n",
    "choice = [0] + choice # Append the selfish part\n",
    "pic_root_folder = \"PIE\"\n",
    "selfish_folder = \"0\"\n",
    "train_set_name, test_set_name = [], []\n",
    "for i in choice:\n",
    "    images = [f'{i}/{filename}' for filename in os.listdir(f'{pic_root_folder}/{i}')]\n",
    "    np.random.shuffle(images)\n",
    "    train_size = int(len(images) * 0.7)\n",
    "    train_set_name += images[:train_size]\n",
    "    test_set_name += images[train_size:]\n",
    "\n",
    "# Generate the label for each set\n",
    "train_set_label = np.array([int(i.split('/')[0]) for i in train_set_name])\n",
    "test_set_label = np.array([int(i.split('/')[0]) for i in test_set_name])\n",
    "\n",
    "# Read and transform image data\n",
    "train_set_data = np.zeros((len(train_set_name), *fig_size))\n",
    "test_set_data = np.zeros((len(test_set_name), *fig_size))\n",
    "for i in range(len(train_set_name)):\n",
    "    train_set_data[i, :] = read_image(f'{pic_root_folder}/{train_set_name[i]}')\n",
    "for i in range(len(test_set_name)):\n",
    "    test_set_data[i, :] = read_image(f'{pic_root_folder}/{test_set_name[i]}')"
   ]
  },
  {
   "cell_type": "code",
   "execution_count": 12,
   "metadata": {},
   "outputs": [],
   "source": [
    "class CNN(nn.Module):\n",
    "    def __init__(self):\n",
    "        super(CNN, self).__init__()\n",
    "        self.conv1 = nn.Conv2d(1, 20, kernel_size=5)\n",
    "        self.conv2 = nn.Conv2d(20, 50, kernel_size=5)\n",
    "        self.pool = nn.MaxPool2d(kernel_size=2, stride=2)\n",
    "        self.fc1 = nn.Linear(50 * 5 * 5, 500)\n",
    "        self.fc2 = nn.Linear(500, 26)\n",
    "\n",
    "    def forward(self, x):\n",
    "        x = self.pool(self.conv1(x))\n",
    "        x = self.pool(self.conv2(x))\n",
    "        x = x.view(-1, 50 * 5 * 5)\n",
    "        x = self.fc2(self.fc1(x))\n",
    "        x = functional.relu(x)\n",
    "        return x"
   ]
  },
  {
   "cell_type": "code",
   "execution_count": 13,
   "metadata": {},
   "outputs": [],
   "source": [
    "unique_labels = np.unique(train_set_label)\n",
    "label_to_index = {unique_labels[i]: i for i in range(26)}\n",
    "index_to_lable = {i:unique_labels[i] for i in range(26)}"
   ]
  },
  {
   "cell_type": "code",
   "execution_count": 14,
   "metadata": {},
   "outputs": [
    {
     "name": "stdout",
     "output_type": "stream",
     "text": [
      "Using device: cuda\n"
     ]
    }
   ],
   "source": [
    "device = torch.device(\"cuda\" if torch.cuda.is_available() else \"cpu\")\n",
    "print(f\"Using device: {device}\")\n",
    "\n",
    "X_train = train_set_data[:, None, :, :] / 255.0\n",
    "Y_train = np.vectorize(label_to_index.get)(train_set_label)\n",
    "X_train_tensor = torch.tensor(X_train).float().to(device)\n",
    "y_train_tensor = torch.tensor(Y_train).long().to(device)\n",
    "tensor_dataset = TensorDataset(X_train_tensor, y_train_tensor)\n",
    "dataset_loader = DataLoader(dataset=tensor_dataset, batch_size=64, shuffle=True)"
   ]
  },
  {
   "cell_type": "code",
   "execution_count": 15,
   "metadata": {},
   "outputs": [
    {
     "name": "stdout",
     "output_type": "stream",
     "text": [
      "Epoch  1, Loss: 3.18, Accurcy: 8.45%\n",
      "Epoch  2, Loss: 1.62, Accurcy: 58.30%\n",
      "Epoch  3, Loss: 0.46, Accurcy: 88.06%\n",
      "Epoch  4, Loss: 0.22, Accurcy: 94.72%\n",
      "Epoch  5, Loss: 0.20, Accurcy: 94.62%\n",
      "Epoch  6, Loss: 0.10, Accurcy: 97.57%\n",
      "Epoch  7, Loss: 0.07, Accurcy: 98.51%\n",
      "Epoch  8, Loss: 0.04, Accurcy: 99.32%\n",
      "Epoch  9, Loss: 0.03, Accurcy: 99.63%\n",
      "Epoch 10, Loss: 0.02, Accurcy: 99.59%\n",
      "Epoch 11, Loss: 0.02, Accurcy: 99.70%\n",
      "Epoch 12, Loss: 0.01, Accurcy: 99.80%\n",
      "Epoch 13, Loss: 0.01, Accurcy: 99.93%\n",
      "Epoch 14, Loss: 0.01, Accurcy: 99.97%\n",
      "Epoch 15, Loss: 0.01, Accurcy: 99.97%\n"
     ]
    }
   ],
   "source": [
    "model = CNN().to(device)\n",
    "loss_function = nn.CrossEntropyLoss()\n",
    "optimizer = torch.optim.Adam(model.parameters(), lr=0.001)\n",
    "epoch = 15\n",
    "\n",
    "for i in range(epoch):\n",
    "    total_loss = 0.0\n",
    "    correct_predictions, total_predictions = 0, 0\n",
    "    for images, labels in dataset_loader:\n",
    "        images, labels = images.to(device), labels.to(device)\n",
    "        optimizer.zero_grad()\n",
    "        output = model(images)\n",
    "        loss = loss_function(output, labels)\n",
    "        loss.backward()\n",
    "        optimizer.step()\n",
    "\n",
    "        total_loss += loss.item()\n",
    "        _, predicted = torch.max(output.data, 1)\n",
    "        total_predictions += labels.size(0)\n",
    "        correct_predictions += (predicted == labels).sum().item()\n",
    "\n",
    "    loss = total_loss / len(dataset_loader)\n",
    "    accuracy = correct_predictions / total_predictions * 100\n",
    "    print(f'Epoch {i + 1:>2}, Loss: {loss:.2f}, Accurcy: {accuracy:.2f}%')"
   ]
  },
  {
   "cell_type": "code",
   "execution_count": 16,
   "metadata": {},
   "outputs": [
    {
     "name": "stdout",
     "output_type": "stream",
     "text": [
      "The accuracy on the testing set: 98.70%\n"
     ]
    }
   ],
   "source": [
    "X_test = test_set_data[:,None,:,:] / 255.0\n",
    "X_test_tensor = torch.tensor(X_test).float().to(device)\n",
    "model.eval()\n",
    "with torch.no_grad():\n",
    "    ouput = model(X_test_tensor)\n",
    "    _, result = torch.max(ouput, 1)\n",
    "    result = result.cpu()\n",
    "\n",
    "predict_result = np.vectorize(index_to_lable.get)(result.numpy())\n",
    "accuracy = np.sum(predict_result == test_set_label) / test_set_label.shape[0]\n",
    "print(f'The accuracy on the testing set: {accuracy * 100:.2f}%')"
   ]
  }
 ],
 "metadata": {
  "kernelspec": {
   "display_name": "base",
   "language": "python",
   "name": "python3"
  },
  "language_info": {
   "codemirror_mode": {
    "name": "ipython",
    "version": 3
   },
   "file_extension": ".py",
   "mimetype": "text/x-python",
   "name": "python",
   "nbconvert_exporter": "python",
   "pygments_lexer": "ipython3",
   "version": "3.10.9"
  }
 },
 "nbformat": 4,
 "nbformat_minor": 2
}
